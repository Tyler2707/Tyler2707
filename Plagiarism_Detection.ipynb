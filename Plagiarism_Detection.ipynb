{
  "nbformat": 4,
  "nbformat_minor": 0,
  "metadata": {
    "colab": {
      "provenance": [],
      "include_colab_link": true
    },
    "kernelspec": {
      "name": "python3",
      "display_name": "Python 3"
    },
    "language_info": {
      "name": "python"
    }
  },
  "cells": [
    {
      "cell_type": "markdown",
      "metadata": {
        "id": "view-in-github",
        "colab_type": "text"
      },
      "source": [
        "<a href=\"https://colab.research.google.com/github/Tyler2707/Tyler2707/blob/main/Plagiarism_Detection.ipynb\" target=\"_parent\"><img src=\"https://colab.research.google.com/assets/colab-badge.svg\" alt=\"Open In Colab\"/></a>"
      ]
    },
    {
      "cell_type": "code",
      "execution_count": null,
      "metadata": {
        "id": "_5tL2_xs_zH3"
      },
      "outputs": [],
      "source": [
        "import os"
      ]
    },
    {
      "cell_type": "code",
      "source": [
        "from sklearn.feature_extraction.text import TfidfVectorizer"
      ],
      "metadata": {
        "id": "sbMPtgucACPU"
      },
      "execution_count": null,
      "outputs": []
    },
    {
      "cell_type": "code",
      "source": [
        "from sklearn.metrics.pairwise import cosine_similarity"
      ],
      "metadata": {
        "id": "77GhO_n4BVTz"
      },
      "execution_count": null,
      "outputs": []
    },
    {
      "cell_type": "code",
      "source": [
        "A = \"When we are able to break free from the imprisonment of our little, small self-thinking and dare to face the essence of life, we recognize we are never at home with ourselves. We are always on the road. By challenging the unknown and the unidentified we are capable of opening our skyline\";\n",
        "B = \"They, like me, like all of us, had, once upon a time, in a past so far away it seemed like heaven, caught by chance a glimpse of an inner essence, only to forget what it was. It was this lost memory that pained us, reduced us to ruins, though still we struggled to be ourselves.\";\n",
        "C = \"Invariably, knowledge dictates life, liberty, and death, but those who have historically occupied the seats of power not only dictate what is defined as knowledge but also dictate what’s included, what’s excluded, and how it is filtered to society vis-à-vis America’s major institutions . . . particularly the educational system; ultimately, shaping the very essence of lifeInvariably, knowledge dictates life, liberty, and death, but those who have historically occupied the seats of power not only dictate what is defined as knowledge but also dictate what’s included, what’s excluded, and how it is filtered to society vis-à-vis America’s major institutions . . . particularly the educational system; ultimately, shaping the very essence of life\";\n",
        "D = \"Deep in the voice of a child and laced throughout the melody of their laughter we can hear what life was like before ‘innocence stolen’ swept it away. And if we bend down and listen closely, we suddenly realize that life was never stolen. Rather, we gave it away.\";\n",
        "student_notes = [A,B,C,D];"
      ],
      "metadata": {
        "id": "RAVvNWiRELoj"
      },
      "execution_count": null,
      "outputs": []
    },
    {
      "cell_type": "code",
      "source": [
        "student_notes"
      ],
      "metadata": {
        "colab": {
          "base_uri": "https://localhost:8080/"
        },
        "id": "jo1ufZrAEtpp",
        "outputId": "aa6748f2-93a5-440b-c599-d3f63b614562"
      },
      "execution_count": null,
      "outputs": [
        {
          "output_type": "execute_result",
          "data": {
            "text/plain": [
              "['When we are able to break free from the imprisonment of our little, small self-thinking and dare to face the essence of life, we recognize we are never at home with ourselves. We are always on the road. By challenging the unknown and the unidentified we are capable of opening our skyline',\n",
              " 'They, like me, like all of us, had, once upon a time, in a past so far away it seemed like heaven, caught by chance a glimpse of an inner essence, only to forget what it was. It was this lost memory that pained us, reduced us to ruins, though still we struggled to be ourselves.',\n",
              " 'Invariably, knowledge dictates life, liberty, and death, but those who have historically occupied the seats of power not only dictate what is defined as knowledge but also dictate what’s included, what’s excluded, and how it is filtered to society vis-à-vis America’s major institutions . . . particularly the educational system; ultimately, shaping the very essence of lifeInvariably, knowledge dictates life, liberty, and death, but those who have historically occupied the seats of power not only dictate what is defined as knowledge but also dictate what’s included, what’s excluded, and how it is filtered to society vis-à-vis America’s major institutions . . . particularly the educational system; ultimately, shaping the very essence of life',\n",
              " 'Deep in the voice of a child and laced throughout the melody of their laughter we can hear what life was like before ‘innocence stolen’ swept it away. And if we bend down and listen closely, we suddenly realize that life was never stolen. Rather, we gave it away.']"
            ]
          },
          "metadata": {},
          "execution_count": 91
        }
      ]
    },
    {
      "cell_type": "code",
      "source": [
        "def vectorize(text):\n",
        "  return TfidfVectorizer().fit_transform(text).toarray()"
      ],
      "metadata": {
        "id": "ro5jB9coHsPZ"
      },
      "execution_count": null,
      "outputs": []
    },
    {
      "cell_type": "code",
      "source": [
        "def similarity(doc1,doc2):\n",
        "  return cosine_similarity([doc1,doc2])"
      ],
      "metadata": {
        "id": "T81_Tvb0ICtr"
      },
      "execution_count": null,
      "outputs": []
    },
    {
      "cell_type": "code",
      "source": [
        "vectors= vectorize(student_notes)"
      ],
      "metadata": {
        "id": "pX0Jv60rIiqE"
      },
      "execution_count": null,
      "outputs": []
    },
    {
      "cell_type": "code",
      "source": [
        "vectors"
      ],
      "metadata": {
        "id": "-B7gAiL8IuKp",
        "colab": {
          "base_uri": "https://localhost:8080/"
        },
        "outputId": "49e70ec3-7b76-4804-dd96-d327c1f22631"
      },
      "execution_count": null,
      "outputs": [
        {
          "output_type": "execute_result",
          "data": {
            "text/plain": [
              "array([[0.1164364 , 0.        , 0.        , 0.1164364 , 0.        ,\n",
              "        0.        , 0.14863969, 0.46574559, 0.        , 0.1164364 ,\n",
              "        0.        , 0.        , 0.        , 0.        , 0.1164364 ,\n",
              "        0.        , 0.09179979, 0.        , 0.1164364 , 0.        ,\n",
              "        0.1164364 , 0.        , 0.        , 0.        , 0.1164364 ,\n",
              "        0.        , 0.        , 0.        , 0.        , 0.        ,\n",
              "        0.        , 0.        , 0.07431984, 0.        , 0.1164364 ,\n",
              "        0.        , 0.        , 0.        , 0.1164364 , 0.1164364 ,\n",
              "        0.        , 0.        , 0.        , 0.        , 0.        ,\n",
              "        0.        , 0.        , 0.1164364 , 0.        , 0.        ,\n",
              "        0.1164364 , 0.        , 0.        , 0.        , 0.        ,\n",
              "        0.        , 0.        , 0.        , 0.        , 0.        ,\n",
              "        0.        , 0.        , 0.        , 0.07431984, 0.        ,\n",
              "        0.        , 0.        , 0.1164364 , 0.        , 0.        ,\n",
              "        0.        , 0.        , 0.        , 0.09179979, 0.        ,\n",
              "        0.        , 0.18228403, 0.1164364 , 0.        , 0.        ,\n",
              "        0.1164364 , 0.2328728 , 0.09179979, 0.        , 0.        ,\n",
              "        0.        , 0.        , 0.        , 0.        , 0.1164364 ,\n",
              "        0.        , 0.1164364 , 0.        , 0.        , 0.        ,\n",
              "        0.1164364 , 0.        , 0.1164364 , 0.1164364 , 0.        ,\n",
              "        0.        , 0.        , 0.        , 0.        , 0.        ,\n",
              "        0.        , 0.        , 0.        , 0.37159922, 0.        ,\n",
              "        0.        , 0.1164364 , 0.        , 0.        , 0.        ,\n",
              "        0.        , 0.        , 0.14863969, 0.        , 0.1164364 ,\n",
              "        0.1164364 , 0.        , 0.        , 0.        , 0.        ,\n",
              "        0.        , 0.        , 0.37159922, 0.        , 0.1164364 ,\n",
              "        0.        , 0.1164364 ],\n",
              "       [0.        , 0.13079423, 0.        , 0.        , 0.        ,\n",
              "        0.13079423, 0.        , 0.        , 0.        , 0.        ,\n",
              "        0.10311968, 0.13079423, 0.        , 0.        , 0.        ,\n",
              "        0.        , 0.10311968, 0.        , 0.        , 0.13079423,\n",
              "        0.        , 0.13079423, 0.        , 0.        , 0.        ,\n",
              "        0.        , 0.        , 0.        , 0.        , 0.        ,\n",
              "        0.        , 0.        , 0.08348427, 0.        , 0.        ,\n",
              "        0.13079423, 0.        , 0.13079423, 0.        , 0.        ,\n",
              "        0.        , 0.13079423, 0.13079423, 0.        , 0.        ,\n",
              "        0.13079423, 0.        , 0.        , 0.        , 0.        ,\n",
              "        0.        , 0.10311968, 0.        , 0.13079423, 0.        ,\n",
              "        0.        , 0.        , 0.        , 0.2504528 , 0.        ,\n",
              "        0.        , 0.        , 0.        , 0.        , 0.        ,\n",
              "        0.30935903, 0.        , 0.        , 0.13079423, 0.        ,\n",
              "        0.13079423, 0.        , 0.13079423, 0.        , 0.        ,\n",
              "        0.        , 0.13650772, 0.        , 0.13079423, 0.10311968,\n",
              "        0.        , 0.        , 0.10311968, 0.13079423, 0.        ,\n",
              "        0.13079423, 0.        , 0.        , 0.        , 0.        ,\n",
              "        0.13079423, 0.        , 0.13079423, 0.        , 0.13079423,\n",
              "        0.        , 0.        , 0.        , 0.        , 0.13079423,\n",
              "        0.        , 0.13079423, 0.        , 0.13079423, 0.        ,\n",
              "        0.        , 0.        , 0.10311968, 0.        , 0.        ,\n",
              "        0.13079423, 0.        , 0.13079423, 0.        , 0.13079423,\n",
              "        0.        , 0.13079423, 0.2504528 , 0.        , 0.        ,\n",
              "        0.        , 0.13079423, 0.3923827 , 0.        , 0.        ,\n",
              "        0.        , 0.20623935, 0.08348427, 0.08348427, 0.        ,\n",
              "        0.        , 0.        ],\n",
              "       [0.        , 0.        , 0.12770986, 0.        , 0.12770986,\n",
              "        0.        , 0.1630311 , 0.        , 0.12770986, 0.        ,\n",
              "        0.        , 0.        , 0.        , 0.        , 0.        ,\n",
              "        0.25541972, 0.        , 0.        , 0.        , 0.        ,\n",
              "        0.        , 0.        , 0.        , 0.        , 0.        ,\n",
              "        0.12770986, 0.        , 0.12770986, 0.25541972, 0.12770986,\n",
              "        0.        , 0.12770986, 0.08151555, 0.12770986, 0.        ,\n",
              "        0.        , 0.12770986, 0.        , 0.        , 0.        ,\n",
              "        0.        , 0.        , 0.        , 0.12770986, 0.        ,\n",
              "        0.        , 0.12770986, 0.        , 0.12770986, 0.        ,\n",
              "        0.        , 0.        , 0.12770986, 0.        , 0.        ,\n",
              "        0.12770986, 0.06385493, 0.25541972, 0.08151555, 0.25541972,\n",
              "        0.        , 0.        , 0.12770986, 0.12227332, 0.06385493,\n",
              "        0.        , 0.        , 0.        , 0.        , 0.12770986,\n",
              "        0.        , 0.        , 0.        , 0.        , 0.12770986,\n",
              "        0.12770986, 0.13328861, 0.        , 0.        , 0.10068792,\n",
              "        0.        , 0.        , 0.        , 0.        , 0.12770986,\n",
              "        0.        , 0.12770986, 0.        , 0.        , 0.        ,\n",
              "        0.        , 0.        , 0.        , 0.12770986, 0.        ,\n",
              "        0.        , 0.12770986, 0.        , 0.        , 0.        ,\n",
              "        0.12770986, 0.        , 0.        , 0.        , 0.        ,\n",
              "        0.        , 0.12770986, 0.        , 0.24454665, 0.        ,\n",
              "        0.        , 0.        , 0.        , 0.12770986, 0.        ,\n",
              "        0.        , 0.        , 0.08151555, 0.12770986, 0.        ,\n",
              "        0.        , 0.        , 0.        , 0.12770986, 0.25541972,\n",
              "        0.        , 0.        , 0.        , 0.24454665, 0.        ,\n",
              "        0.12770986, 0.        ],\n",
              "       [0.        , 0.        , 0.        , 0.        , 0.        ,\n",
              "        0.        , 0.27072111, 0.        , 0.        , 0.        ,\n",
              "        0.22292962, 0.        , 0.14137898, 0.14137898, 0.        ,\n",
              "        0.        , 0.        , 0.14137898, 0.        , 0.        ,\n",
              "        0.        , 0.        , 0.14137898, 0.14137898, 0.        ,\n",
              "        0.        , 0.14137898, 0.        , 0.        , 0.        ,\n",
              "        0.14137898, 0.        , 0.        , 0.        , 0.        ,\n",
              "        0.        , 0.        , 0.        , 0.        , 0.        ,\n",
              "        0.14137898, 0.        , 0.        , 0.        , 0.14137898,\n",
              "        0.        , 0.        , 0.        , 0.        , 0.14137898,\n",
              "        0.        , 0.11146481, 0.        , 0.        , 0.14137898,\n",
              "        0.        , 0.        , 0.        , 0.18048074, 0.        ,\n",
              "        0.14137898, 0.14137898, 0.        , 0.18048074, 0.        ,\n",
              "        0.11146481, 0.14137898, 0.        , 0.        , 0.        ,\n",
              "        0.        , 0.14137898, 0.        , 0.11146481, 0.        ,\n",
              "        0.        , 0.14755483, 0.        , 0.        , 0.        ,\n",
              "        0.        , 0.        , 0.        , 0.        , 0.        ,\n",
              "        0.        , 0.        , 0.14137898, 0.14137898, 0.        ,\n",
              "        0.        , 0.        , 0.        , 0.        , 0.        ,\n",
              "        0.        , 0.        , 0.        , 0.        , 0.        ,\n",
              "        0.        , 0.        , 0.28275796, 0.        , 0.14137898,\n",
              "        0.14137898, 0.        , 0.11146481, 0.18048074, 0.14137898,\n",
              "        0.        , 0.        , 0.        , 0.        , 0.        ,\n",
              "        0.14137898, 0.        , 0.        , 0.        , 0.        ,\n",
              "        0.        , 0.        , 0.        , 0.        , 0.        ,\n",
              "        0.14137898, 0.22292962, 0.36096148, 0.09024037, 0.        ,\n",
              "        0.        , 0.        ]])"
            ]
          },
          "metadata": {},
          "execution_count": 95
        }
      ]
    },
    {
      "cell_type": "code",
      "source": [
        "s_vectors=list(zip([\"A\",\"B\",\"C\",\"D\"],vectors)) "
      ],
      "metadata": {
        "id": "PWqu73PvI7yg"
      },
      "execution_count": null,
      "outputs": []
    },
    {
      "cell_type": "code",
      "source": [
        "s_vectors"
      ],
      "metadata": {
        "id": "CyOLkuuoJYI6",
        "colab": {
          "base_uri": "https://localhost:8080/"
        },
        "outputId": "795666c0-fe0c-42d0-8f49-30f30a3d8fb6"
      },
      "execution_count": null,
      "outputs": [
        {
          "output_type": "execute_result",
          "data": {
            "text/plain": [
              "[('A', array([0.1164364 , 0.        , 0.        , 0.1164364 , 0.        ,\n",
              "         0.        , 0.14863969, 0.46574559, 0.        , 0.1164364 ,\n",
              "         0.        , 0.        , 0.        , 0.        , 0.1164364 ,\n",
              "         0.        , 0.09179979, 0.        , 0.1164364 , 0.        ,\n",
              "         0.1164364 , 0.        , 0.        , 0.        , 0.1164364 ,\n",
              "         0.        , 0.        , 0.        , 0.        , 0.        ,\n",
              "         0.        , 0.        , 0.07431984, 0.        , 0.1164364 ,\n",
              "         0.        , 0.        , 0.        , 0.1164364 , 0.1164364 ,\n",
              "         0.        , 0.        , 0.        , 0.        , 0.        ,\n",
              "         0.        , 0.        , 0.1164364 , 0.        , 0.        ,\n",
              "         0.1164364 , 0.        , 0.        , 0.        , 0.        ,\n",
              "         0.        , 0.        , 0.        , 0.        , 0.        ,\n",
              "         0.        , 0.        , 0.        , 0.07431984, 0.        ,\n",
              "         0.        , 0.        , 0.1164364 , 0.        , 0.        ,\n",
              "         0.        , 0.        , 0.        , 0.09179979, 0.        ,\n",
              "         0.        , 0.18228403, 0.1164364 , 0.        , 0.        ,\n",
              "         0.1164364 , 0.2328728 , 0.09179979, 0.        , 0.        ,\n",
              "         0.        , 0.        , 0.        , 0.        , 0.1164364 ,\n",
              "         0.        , 0.1164364 , 0.        , 0.        , 0.        ,\n",
              "         0.1164364 , 0.        , 0.1164364 , 0.1164364 , 0.        ,\n",
              "         0.        , 0.        , 0.        , 0.        , 0.        ,\n",
              "         0.        , 0.        , 0.        , 0.37159922, 0.        ,\n",
              "         0.        , 0.1164364 , 0.        , 0.        , 0.        ,\n",
              "         0.        , 0.        , 0.14863969, 0.        , 0.1164364 ,\n",
              "         0.1164364 , 0.        , 0.        , 0.        , 0.        ,\n",
              "         0.        , 0.        , 0.37159922, 0.        , 0.1164364 ,\n",
              "         0.        , 0.1164364 ])),\n",
              " ('B', array([0.        , 0.13079423, 0.        , 0.        , 0.        ,\n",
              "         0.13079423, 0.        , 0.        , 0.        , 0.        ,\n",
              "         0.10311968, 0.13079423, 0.        , 0.        , 0.        ,\n",
              "         0.        , 0.10311968, 0.        , 0.        , 0.13079423,\n",
              "         0.        , 0.13079423, 0.        , 0.        , 0.        ,\n",
              "         0.        , 0.        , 0.        , 0.        , 0.        ,\n",
              "         0.        , 0.        , 0.08348427, 0.        , 0.        ,\n",
              "         0.13079423, 0.        , 0.13079423, 0.        , 0.        ,\n",
              "         0.        , 0.13079423, 0.13079423, 0.        , 0.        ,\n",
              "         0.13079423, 0.        , 0.        , 0.        , 0.        ,\n",
              "         0.        , 0.10311968, 0.        , 0.13079423, 0.        ,\n",
              "         0.        , 0.        , 0.        , 0.2504528 , 0.        ,\n",
              "         0.        , 0.        , 0.        , 0.        , 0.        ,\n",
              "         0.30935903, 0.        , 0.        , 0.13079423, 0.        ,\n",
              "         0.13079423, 0.        , 0.13079423, 0.        , 0.        ,\n",
              "         0.        , 0.13650772, 0.        , 0.13079423, 0.10311968,\n",
              "         0.        , 0.        , 0.10311968, 0.13079423, 0.        ,\n",
              "         0.13079423, 0.        , 0.        , 0.        , 0.        ,\n",
              "         0.13079423, 0.        , 0.13079423, 0.        , 0.13079423,\n",
              "         0.        , 0.        , 0.        , 0.        , 0.13079423,\n",
              "         0.        , 0.13079423, 0.        , 0.13079423, 0.        ,\n",
              "         0.        , 0.        , 0.10311968, 0.        , 0.        ,\n",
              "         0.13079423, 0.        , 0.13079423, 0.        , 0.13079423,\n",
              "         0.        , 0.13079423, 0.2504528 , 0.        , 0.        ,\n",
              "         0.        , 0.13079423, 0.3923827 , 0.        , 0.        ,\n",
              "         0.        , 0.20623935, 0.08348427, 0.08348427, 0.        ,\n",
              "         0.        , 0.        ])),\n",
              " ('C', array([0.        , 0.        , 0.12770986, 0.        , 0.12770986,\n",
              "         0.        , 0.1630311 , 0.        , 0.12770986, 0.        ,\n",
              "         0.        , 0.        , 0.        , 0.        , 0.        ,\n",
              "         0.25541972, 0.        , 0.        , 0.        , 0.        ,\n",
              "         0.        , 0.        , 0.        , 0.        , 0.        ,\n",
              "         0.12770986, 0.        , 0.12770986, 0.25541972, 0.12770986,\n",
              "         0.        , 0.12770986, 0.08151555, 0.12770986, 0.        ,\n",
              "         0.        , 0.12770986, 0.        , 0.        , 0.        ,\n",
              "         0.        , 0.        , 0.        , 0.12770986, 0.        ,\n",
              "         0.        , 0.12770986, 0.        , 0.12770986, 0.        ,\n",
              "         0.        , 0.        , 0.12770986, 0.        , 0.        ,\n",
              "         0.12770986, 0.06385493, 0.25541972, 0.08151555, 0.25541972,\n",
              "         0.        , 0.        , 0.12770986, 0.12227332, 0.06385493,\n",
              "         0.        , 0.        , 0.        , 0.        , 0.12770986,\n",
              "         0.        , 0.        , 0.        , 0.        , 0.12770986,\n",
              "         0.12770986, 0.13328861, 0.        , 0.        , 0.10068792,\n",
              "         0.        , 0.        , 0.        , 0.        , 0.12770986,\n",
              "         0.        , 0.12770986, 0.        , 0.        , 0.        ,\n",
              "         0.        , 0.        , 0.        , 0.12770986, 0.        ,\n",
              "         0.        , 0.12770986, 0.        , 0.        , 0.        ,\n",
              "         0.12770986, 0.        , 0.        , 0.        , 0.        ,\n",
              "         0.        , 0.12770986, 0.        , 0.24454665, 0.        ,\n",
              "         0.        , 0.        , 0.        , 0.12770986, 0.        ,\n",
              "         0.        , 0.        , 0.08151555, 0.12770986, 0.        ,\n",
              "         0.        , 0.        , 0.        , 0.12770986, 0.25541972,\n",
              "         0.        , 0.        , 0.        , 0.24454665, 0.        ,\n",
              "         0.12770986, 0.        ])),\n",
              " ('D', array([0.        , 0.        , 0.        , 0.        , 0.        ,\n",
              "         0.        , 0.27072111, 0.        , 0.        , 0.        ,\n",
              "         0.22292962, 0.        , 0.14137898, 0.14137898, 0.        ,\n",
              "         0.        , 0.        , 0.14137898, 0.        , 0.        ,\n",
              "         0.        , 0.        , 0.14137898, 0.14137898, 0.        ,\n",
              "         0.        , 0.14137898, 0.        , 0.        , 0.        ,\n",
              "         0.14137898, 0.        , 0.        , 0.        , 0.        ,\n",
              "         0.        , 0.        , 0.        , 0.        , 0.        ,\n",
              "         0.14137898, 0.        , 0.        , 0.        , 0.14137898,\n",
              "         0.        , 0.        , 0.        , 0.        , 0.14137898,\n",
              "         0.        , 0.11146481, 0.        , 0.        , 0.14137898,\n",
              "         0.        , 0.        , 0.        , 0.18048074, 0.        ,\n",
              "         0.14137898, 0.14137898, 0.        , 0.18048074, 0.        ,\n",
              "         0.11146481, 0.14137898, 0.        , 0.        , 0.        ,\n",
              "         0.        , 0.14137898, 0.        , 0.11146481, 0.        ,\n",
              "         0.        , 0.14755483, 0.        , 0.        , 0.        ,\n",
              "         0.        , 0.        , 0.        , 0.        , 0.        ,\n",
              "         0.        , 0.        , 0.14137898, 0.14137898, 0.        ,\n",
              "         0.        , 0.        , 0.        , 0.        , 0.        ,\n",
              "         0.        , 0.        , 0.        , 0.        , 0.        ,\n",
              "         0.        , 0.        , 0.28275796, 0.        , 0.14137898,\n",
              "         0.14137898, 0.        , 0.11146481, 0.18048074, 0.14137898,\n",
              "         0.        , 0.        , 0.        , 0.        , 0.        ,\n",
              "         0.14137898, 0.        , 0.        , 0.        , 0.        ,\n",
              "         0.        , 0.        , 0.        , 0.        , 0.        ,\n",
              "         0.14137898, 0.22292962, 0.36096148, 0.09024037, 0.        ,\n",
              "         0.        , 0.        ]))]"
            ]
          },
          "metadata": {},
          "execution_count": 97
        }
      ]
    },
    {
      "cell_type": "code",
      "source": [
        "plagiarism_results=set()"
      ],
      "metadata": {
        "id": "atI7j6hnJliO"
      },
      "execution_count": null,
      "outputs": []
    },
    {
      "cell_type": "code",
      "source": [
        "def check_plagiarims():\n",
        "  global s_vectors\n",
        "  for student_a,text_vector_a in s_vectors:\n",
        "    new_vectors=s_vectors.copy()\n",
        "    current_index=new_vectors.index((student_a,text_vector_a))\n",
        "    print(current_index)\n",
        "    for student_b,text_vector_b in new_vectors:\n",
        "      sim_score=similarity(text_vector_a,text_vector_b)[0][1]\n",
        "      student_pair=sorted((student_a,student_b))\n",
        "      print(similarity(text_vector_a,text_vector_b))\n",
        "      print(student_pair)\n",
        "      score=(student_pair[0],student_pair[1],sim_score)\n",
        "      plagiarism_results.add(score)\n",
        "  return plagiarism_results"
      ],
      "metadata": {
        "id": "LXzvmOM_NNTh"
      },
      "execution_count": null,
      "outputs": []
    },
    {
      "cell_type": "code",
      "source": [
        "for data in check_plagiarims():\n",
        "  print(data)"
      ],
      "metadata": {
        "id": "uhoGIOeuQS-s",
        "colab": {
          "base_uri": "https://localhost:8080/"
        },
        "outputId": "9729f1a2-71e8-49fc-d3f5-49250c3d1933"
      },
      "execution_count": null,
      "outputs": [
        {
          "output_type": "stream",
          "name": "stdout",
          "text": [
            "0\n",
            "[[1. 1.]\n",
            " [1. 1.]]\n",
            "['A', 'A']\n",
            "[[1.         0.11827036]\n",
            " [0.11827036 1.        ]]\n",
            "['A', 'B']\n",
            "[[1.         0.16666462]\n",
            " [0.16666462 1.        ]]\n",
            "['A', 'C']\n",
            "[[1.         0.29198205]\n",
            " [0.29198205 1.        ]]\n",
            "['A', 'D']\n",
            "1\n",
            "[[1.         0.11827036]\n",
            " [0.11827036 1.        ]]\n",
            "['A', 'B']\n",
            "[[1. 1.]\n",
            " [1. 1.]]\n",
            "['B', 'B']\n",
            "[[1.         0.09663049]\n",
            " [0.09663049 1.        ]]\n",
            "['B', 'C']\n",
            "[[1.        0.2294489]\n",
            " [0.2294489 1.       ]]\n",
            "['B', 'D']\n",
            "2\n",
            "[[1.         0.16666462]\n",
            " [0.16666462 1.        ]]\n",
            "['A', 'C']\n",
            "[[1.         0.09663049]\n",
            " [0.09663049 1.        ]]\n",
            "['B', 'C']\n",
            "[[1. 1.]\n",
            " [1. 1.]]\n",
            "['C', 'C']\n",
            "[[1.         0.16678724]\n",
            " [0.16678724 1.        ]]\n",
            "['C', 'D']\n",
            "3\n",
            "[[1.         0.29198205]\n",
            " [0.29198205 1.        ]]\n",
            "['A', 'D']\n",
            "[[1.        0.2294489]\n",
            " [0.2294489 1.       ]]\n",
            "['B', 'D']\n",
            "[[1.         0.16678724]\n",
            " [0.16678724 1.        ]]\n",
            "['C', 'D']\n",
            "[[1. 1.]\n",
            " [1. 1.]]\n",
            "['D', 'D']\n",
            "('A', 'A', 0.9999999999999998)\n",
            "('B', 'B', 1.0000000000000009)\n",
            "('A', 'D', 0.29198204674155037)\n",
            "('B', 'D', 0.22944890171961116)\n",
            "('C', 'D', 0.1667872445636463)\n",
            "('B', 'C', 0.09663048687628975)\n",
            "('D', 'D', 0.9999999999999998)\n",
            "('A', 'B', 0.11827035859979995)\n",
            "('A', 'C', 0.1666646238308965)\n",
            "('C', 'C', 0.9999999999999993)\n"
          ]
        }
      ]
    }
  ]
}